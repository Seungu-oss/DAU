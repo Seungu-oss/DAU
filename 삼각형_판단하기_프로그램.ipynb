{
  "nbformat": 4,
  "nbformat_minor": 0,
  "metadata": {
    "colab": {
      "provenance": [],
      "authorship_tag": "ABX9TyMVAWBDXvLEXniA8qAgS9ir",
      "include_colab_link": true
    },
    "kernelspec": {
      "name": "python3",
      "display_name": "Python 3"
    },
    "language_info": {
      "name": "python"
    }
  },
  "cells": [
    {
      "cell_type": "markdown",
      "metadata": {
        "id": "view-in-github",
        "colab_type": "text"
      },
      "source": [
        "<a href=\"https://colab.research.google.com/github/Seungu-oss/DAU/blob/main/%EC%82%BC%EA%B0%81%ED%98%95_%ED%8C%90%EB%8B%A8%ED%95%98%EA%B8%B0_%ED%94%84%EB%A1%9C%EA%B7%B8%EB%9E%A8.ipynb\" target=\"_parent\"><img src=\"https://colab.research.google.com/assets/colab-badge.svg\" alt=\"Open In Colab\"/></a>"
      ]
    },
    {
      "cell_type": "markdown",
      "source": [
        "# 삼각형 판단하기\n",
        "\n",
        "본 수업에서는 **삼각형의 세변의 길이**를 받아서 어떠한 삼각형인지를 알려주는 프로그램을 개발합니다. 제안하는 프로그램은 사용자로부터3개의 입력을 받습니다."
      ],
      "metadata": {
        "id": "Atz9Y_ihxpk2"
      }
    },
    {
      "cell_type": "code",
      "execution_count": 3,
      "metadata": {
        "id": "FfZ3JvnevVyj"
      },
      "outputs": [],
      "source": [
        "a=13\n",
        "b=5\n",
        "c=10"
      ]
    },
    {
      "cell_type": "markdown",
      "source": [
        "## 정삼각형\n",
        "\n",
        "$a=b=c$ 정삼각형"
      ],
      "metadata": {
        "id": "o8UDrSc9zzQO"
      }
    },
    {
      "cell_type": "code",
      "source": [
        "if a==b==c:\n",
        "  print(\"정삼각형\")\n",
        "else:\n",
        "  print(\"정삼각형 아님\")"
      ],
      "metadata": {
        "colab": {
          "base_uri": "https://localhost:8080/"
        },
        "id": "NAlXTtzoz7ap",
        "outputId": "021b5f7b-7ad6-47dc-e002-e1dd695bc659"
      },
      "execution_count": 4,
      "outputs": [
        {
          "output_type": "stream",
          "name": "stdout",
          "text": [
            "정삼각형 아님\n"
          ]
        }
      ]
    }
  ]
}