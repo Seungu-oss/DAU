{
  "nbformat": 4,
  "nbformat_minor": 0,
  "metadata": {
    "colab": {
      "provenance": [],
      "mount_file_id": "14SeaRitumU6mIbcaqkXBF8Rqs46APNtO",
      "authorship_tag": "ABX9TyNs+KJyzQ6t20Z07Pb5Z8gM",
      "include_colab_link": true
    },
    "kernelspec": {
      "name": "python3",
      "display_name": "Python 3"
    },
    "language_info": {
      "name": "python"
    }
  },
  "cells": [
    {
      "cell_type": "markdown",
      "metadata": {
        "id": "view-in-github",
        "colab_type": "text"
      },
      "source": [
        "<a href=\"https://colab.research.google.com/github/Seungu-oss/DAU/blob/main/%EC%A7%91%EA%B0%92_%EC%98%88%EC%B8%A1_%ED%94%84%EB%A1%9C%EA%B7%B8%EB%9E%A8_%EC%83%9D%EC%84%B1.ipynb\" target=\"_parent\"><img src=\"https://colab.research.google.com/assets/colab-badge.svg\" alt=\"Open In Colab\"/></a>"
      ]
    },
    {
      "cell_type": "code",
      "execution_count": null,
      "metadata": {
        "id": "tFCHYLay3ffE"
      },
      "outputs": [],
      "source": [
        "# prompt: /content/sample_datsa/california_housing_train.csv로부터 집값 예측 프로그램을 생성해줘\n",
        "\n",
        "import pandas as pd\n",
        "from sklearn.model_selection import train_test_split\n",
        "from sklearn.linear_model import LinearRegression\n",
        "from sklearn.metrics import mean_squared_error\n",
        "\n",
        "# 데이터 로드\n",
        "try:\n",
        "  df = pd.read_csv('/content/sample_data/california_housing_train.csv')\n",
        "except FileNotFoundError:\n",
        "  print(\"Error: File not found. Please make sure the file path is correct.\")\n",
        "  exit()\n",
        "\n",
        "# 특성(X)과 타겟(y) 분리\n",
        "X = df.drop('median_house_value', axis=1)\n",
        "y = df['median_house_value']\n",
        "\n",
        "# 데이터 분할 (훈련 세트와 테스트 세트)\n",
        "X_train, X_test, y_train, y_test = train_test_split(X, y, test_size=0.2, random_state=42)\n",
        "\n",
        "# 선형 회귀 모델 생성 및 훈련\n",
        "model = LinearRegression()\n",
        "model.fit(X_train, y_train)\n",
        "\n",
        "# 테스트 세트로 예측\n",
        "y_pred = model.predict(X_test)\n",
        "\n",
        "# 평가 (평균 제곱 오차)\n",
        "mse = mean_squared_error(y_test, y_pred)\n",
        "print(f\"Mean Squared Error: {mse}\")\n",
        "\n",
        "# 새로운 데이터 예측 (예시)\n",
        "# 새로운 데이터는 X_test와 같은 형태여야 함.\n",
        "# 예시로 X_test의 첫 번째 행 사용\n",
        "new_data = X_test.iloc[[0]]\n",
        "predicted_price = model.predict(new_data)\n",
        "print(f\"Predicted house price for new data: {predicted_price[0]}\")\n"
      ]
    },
    {
      "cell_type": "code",
      "source": [],
      "metadata": {
        "id": "4Drepits4H7M"
      },
      "execution_count": null,
      "outputs": []
    }
  ]
}